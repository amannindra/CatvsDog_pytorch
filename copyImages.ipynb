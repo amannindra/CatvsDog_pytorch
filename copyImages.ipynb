{
 "cells": [
  {
   "cell_type": "code",
   "execution_count": 10,
   "id": "e5bbfc01",
   "metadata": {},
   "outputs": [
    {
     "name": "stdout",
     "output_type": "stream",
     "text": [
      "Path to dataset files: C:\\Users\\amann\\.cache\\kagglehub\\datasets\\karakaggle\\kaggle-cat-vs-dog-dataset\\versions\\1\n",
      "Folder 'CatDog' already exists.\n"
     ]
    }
   ],
   "source": [
    "import os\n",
    "import shutil\n",
    "import kagglehub\n",
    "import random\n",
    "\n",
    "\n",
    "path = kagglehub.dataset_download(\"karakaggle/kaggle-cat-vs-dog-dataset\")\n",
    "print(\"Path to dataset files:\", path)\n",
    "\n",
    "\n",
    "main = os.path.join(path, \"kagglecatsanddogs_3367a\\PetImages\")\n",
    "\n",
    "cat = os.path.join(path, \"kagglecatsanddogs_3367a\\PetImages\\Cat\")\n",
    "dog = os.path.join(path, \"kagglecatsanddogs_3367a\\PetImages\\Dog\")\n",
    "\n",
    "\n",
    "if not os.path.exists(cat):\n",
    "    print(\"Cat folder does not exist\")\n",
    "if not os.path.exists(dog):\n",
    "    print(\"Dog folder does not exist\")\n",
    "\n",
    "try:\n",
    "    folder_name = \"CatDog\"\n",
    "    new_folder = os.path.join(path, \"kagglecatsanddogs_3367a\", folder_name)\n",
    "    os.mkdir(new_folder)\n",
    "    print(f\"Folder '{folder_name}' created successfully.\")\n",
    "except FileExistsError:\n",
    "    print(f\"Folder '{folder_name}' already exists.\")"
   ]
  },
  {
   "cell_type": "code",
   "execution_count": 11,
   "id": "f29d2a21",
   "metadata": {},
   "outputs": [
    {
     "name": "stdout",
     "output_type": "stream",
     "text": [
      "Cat: 9992 train, 2499 val\n",
      "Dog: 9976 train, 2494 val\n"
     ]
    }
   ],
   "source": [
    "def split_data(source_dir, train_dir, val_dir, split_ratio=0.8):\n",
    "    for label in [\"Cat\", \"Dog\"]:\n",
    "        src_folder = os.path.join(source_dir, label)\n",
    "        train_folder = os.path.join(train_dir, label)\n",
    "        val_folder = os.path.join(val_dir, label)\n",
    "        os.makedirs(train_folder, exist_ok=True)\n",
    "        os.makedirs(val_folder, exist_ok=True)\n",
    "\n",
    "        images = [\n",
    "            f\n",
    "            for f in os.listdir(src_folder)\n",
    "            if os.path.isfile(os.path.join(src_folder, f))\n",
    "        ]\n",
    "        random.shuffle(images)\n",
    "        split_idx = int(len(images) * split_ratio)\n",
    "        train_images = images[:split_idx]\n",
    "        val_images = images[split_idx:]\n",
    "\n",
    "        for img in train_images:\n",
    "            shutil.copy(os.path.join(src_folder, img), os.path.join(train_folder, img))\n",
    "        for img in val_images:\n",
    "            shutil.copy(os.path.join(src_folder, img), os.path.join(val_folder, img))\n",
    "\n",
    "        print(f\"{label}: {len(train_images)} train, {len(val_images)} val\")\n",
    "\n",
    "\n",
    "# Example usage:\n",
    "# Set your dataset root path here\n",
    "dataset_root = os.path.join(path, \"kagglecatsanddogs_3367a\")\n",
    "\n",
    "train_dir = os.path.join(dataset_root, \"train\")\n",
    "val_dir = os.path.join(dataset_root, \"val\")\n",
    "\n",
    "split_data(main, train_dir, val_dir, split_ratio=0.8)"
   ]
  },
  {
   "cell_type": "code",
   "execution_count": null,
   "id": "c5e8dd03",
   "metadata": {},
   "outputs": [
    {
     "ename": "FileNotFoundError",
     "evalue": "[Errno 2] No such file or directory: 'C:\\\\Users\\\\amann\\\\.cache\\\\kagglehub\\\\datasets\\\\karakaggle\\\\kaggle-cat-vs-dog-dataset\\\\versions\\\\1\\\\kagglecatsanddogs_3367a\\\\CatDog\\\\cat1.jpg'",
     "output_type": "error",
     "traceback": [
      "\u001b[31m---------------------------------------------------------------------------\u001b[39m",
      "\u001b[31mFileNotFoundError\u001b[39m                         Traceback (most recent call last)",
      "\u001b[36mCell\u001b[39m\u001b[36m \u001b[39m\u001b[32mIn[7]\u001b[39m\u001b[32m, line 9\u001b[39m\n\u001b[32m      5\u001b[39m \u001b[38;5;28;01mif\u001b[39;00m \u001b[38;5;129;01mnot\u001b[39;00m os.path.exists(os.path.join(path, \u001b[33m\"\u001b[39m\u001b[33mkagglecatsanddogs_3367a\u001b[39m\u001b[33m\"\u001b[39m, \u001b[33m\"\u001b[39m\u001b[33mCatDog\u001b[39m\u001b[33m\"\u001b[39m, i)):\n\u001b[32m      7\u001b[39m     destination_file = os.path.join(path, \u001b[33m\"\u001b[39m\u001b[33mkagglecatsanddogs_3367a\u001b[39m\u001b[33m\"\u001b[39m, \u001b[33m\"\u001b[39m\u001b[33mCatDog\u001b[39m\u001b[33m\"\u001b[39m, i)\n\u001b[32m----> \u001b[39m\u001b[32m9\u001b[39m     \u001b[43mshutil\u001b[49m\u001b[43m.\u001b[49m\u001b[43mcopy\u001b[49m\u001b[43m(\u001b[49m\u001b[43msource_file\u001b[49m\u001b[43m,\u001b[49m\u001b[43m \u001b[49m\u001b[43mdestination_file\u001b[49m\u001b[43m)\u001b[49m\n\u001b[32m     10\u001b[39m \u001b[38;5;28;01melse\u001b[39;00m:\n\u001b[32m     11\u001b[39m     \u001b[38;5;28;01mpass\u001b[39;00m\n",
      "\u001b[36mFile \u001b[39m\u001b[32m~\\AppData\\Local\\Programs\\Python\\Python311\\Lib\\shutil.py:419\u001b[39m, in \u001b[36mcopy\u001b[39m\u001b[34m(src, dst, follow_symlinks)\u001b[39m\n\u001b[32m    417\u001b[39m \u001b[38;5;28;01mif\u001b[39;00m os.path.isdir(dst):\n\u001b[32m    418\u001b[39m     dst = os.path.join(dst, os.path.basename(src))\n\u001b[32m--> \u001b[39m\u001b[32m419\u001b[39m \u001b[43mcopyfile\u001b[49m\u001b[43m(\u001b[49m\u001b[43msrc\u001b[49m\u001b[43m,\u001b[49m\u001b[43m \u001b[49m\u001b[43mdst\u001b[49m\u001b[43m,\u001b[49m\u001b[43m \u001b[49m\u001b[43mfollow_symlinks\u001b[49m\u001b[43m=\u001b[49m\u001b[43mfollow_symlinks\u001b[49m\u001b[43m)\u001b[49m\n\u001b[32m    420\u001b[39m copymode(src, dst, follow_symlinks=follow_symlinks)\n\u001b[32m    421\u001b[39m \u001b[38;5;28;01mreturn\u001b[39;00m dst\n",
      "\u001b[36mFile \u001b[39m\u001b[32m~\\AppData\\Local\\Programs\\Python\\Python311\\Lib\\shutil.py:258\u001b[39m, in \u001b[36mcopyfile\u001b[39m\u001b[34m(src, dst, follow_symlinks)\u001b[39m\n\u001b[32m    256\u001b[39m \u001b[38;5;28;01mwith\u001b[39;00m \u001b[38;5;28mopen\u001b[39m(src, \u001b[33m'\u001b[39m\u001b[33mrb\u001b[39m\u001b[33m'\u001b[39m) \u001b[38;5;28;01mas\u001b[39;00m fsrc:\n\u001b[32m    257\u001b[39m     \u001b[38;5;28;01mtry\u001b[39;00m:\n\u001b[32m--> \u001b[39m\u001b[32m258\u001b[39m         \u001b[38;5;28;01mwith\u001b[39;00m \u001b[38;5;28;43mopen\u001b[39;49m\u001b[43m(\u001b[49m\u001b[43mdst\u001b[49m\u001b[43m,\u001b[49m\u001b[43m \u001b[49m\u001b[33;43m'\u001b[39;49m\u001b[33;43mwb\u001b[39;49m\u001b[33;43m'\u001b[39;49m\u001b[43m)\u001b[49m \u001b[38;5;28;01mas\u001b[39;00m fdst:\n\u001b[32m    259\u001b[39m             \u001b[38;5;66;03m# macOS\u001b[39;00m\n\u001b[32m    260\u001b[39m             \u001b[38;5;28;01mif\u001b[39;00m _HAS_FCOPYFILE:\n\u001b[32m    261\u001b[39m                 \u001b[38;5;28;01mtry\u001b[39;00m:\n",
      "\u001b[31mFileNotFoundError\u001b[39m: [Errno 2] No such file or directory: 'C:\\\\Users\\\\amann\\\\.cache\\\\kagglehub\\\\datasets\\\\karakaggle\\\\kaggle-cat-vs-dog-dataset\\\\versions\\\\1\\\\kagglecatsanddogs_3367a\\\\CatDog\\\\cat1.jpg'"
     ]
    }
   ],
   "source": [
    "j = 0 \n",
    "while j < c:\n",
    "\n",
    "\n",
    "for i in os.listdir(cat):\n",
    "\n",
    "    source_file = os.path.join(cat, i)\n",
    "\n",
    "\n",
    "    if not os.path.exists(os.path.join(path, \"kagglecatsanddogs_3367a\", \"CatDog\", i)):\n",
    "\n",
    "        destination_file = os.path.join(path, \"kagglecatsanddogs_3367a\", \"CatDog\", i)\n",
    "\n",
    "        shutil.copy(source_file, destination_file)\n",
    "    else:\n",
    "        pass\n",
    "\n",
    "\n",
    "for i in os.listdir(dog):\n",
    "\n",
    "    source_file = os.path.join(dog, i)\n",
    "\n",
    "    if not os.path.exists(os.path.join(path, \"kagglecatsanddogs_3367a\", \"CatDog\", i)):\n",
    "\n",
    "        destination_file = os.path.join(path, \"kagglecatsanddogs_3367a\", \"CatDog\", i)\n",
    "\n",
    "        shutil.copy(source_file, destination_file)\n",
    "\n",
    "    else:\n",
    "        pass"
   ]
  },
  {
   "cell_type": "code",
   "execution_count": null,
   "id": "22bf2942",
   "metadata": {},
   "outputs": [],
   "source": []
  }
 ],
 "metadata": {
  "kernelspec": {
   "display_name": ".venv",
   "language": "python",
   "name": "python3"
  },
  "language_info": {
   "codemirror_mode": {
    "name": "ipython",
    "version": 3
   },
   "file_extension": ".py",
   "mimetype": "text/x-python",
   "name": "python",
   "nbconvert_exporter": "python",
   "pygments_lexer": "ipython3",
   "version": "3.11.6"
  }
 },
 "nbformat": 4,
 "nbformat_minor": 5
}
